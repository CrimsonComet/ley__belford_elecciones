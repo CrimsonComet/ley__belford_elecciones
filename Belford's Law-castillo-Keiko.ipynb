{
 "cells": [
  {
   "cell_type": "code",
   "execution_count": 1,
   "id": "72323555",
   "metadata": {},
   "outputs": [],
   "source": [
    "import matplotlib.pyplot as plt\n",
    "import pandas as pd\n",
    "import seaborn as sns\n",
    "import math"
   ]
  },
  {
   "cell_type": "code",
   "execution_count": 2,
   "id": "9133ebc1",
   "metadata": {},
   "outputs": [
    {
     "name": "stderr",
     "output_type": "stream",
     "text": [
      "C:\\Users\\abadc\\anaconda3\\lib\\site-packages\\IPython\\core\\interactiveshell.py:3441: DtypeWarning: Columns (0) have mixed types.Specify dtype option on import or set low_memory=False.\n",
      "  exec(code_obj, self.user_global_ns, self.user_ns)\n"
     ]
    }
   ],
   "source": [
    "df = pd.read_csv('final_todas_las_actas_1_903108.csv', encoding = \"ISO-8859-1\")"
   ]
  },
  {
   "cell_type": "code",
   "execution_count": 3,
   "id": "a755a138",
   "metadata": {},
   "outputs": [
    {
     "data": {
      "text/plain": [
       "Index(['mesa_numero', 'copia_numero', 'departamento', 'provincia', 'distrito',\n",
       "       'local_de_votacion', 'direccion', 'electores_habiles', 'total_votantes',\n",
       "       'estados_del_acta', 'votos_para_pedro_castillo',\n",
       "       'votos_para_keiko_fujimori', 'votos_en_blanco', 'votos_nulos',\n",
       "       'votos_impugnados', 'total_votos_emitidos'],\n",
       "      dtype='object')"
      ]
     },
     "execution_count": 3,
     "metadata": {},
     "output_type": "execute_result"
    }
   ],
   "source": [
    "df.columns"
   ]
  },
  {
   "cell_type": "code",
   "execution_count": 4,
   "id": "0847db47",
   "metadata": {},
   "outputs": [],
   "source": [
    "df_distrito = df.groupby('distrito').votos_para_keiko_fujimori.sum()"
   ]
  },
  {
   "cell_type": "code",
   "execution_count": 5,
   "id": "02042c9c",
   "metadata": {},
   "outputs": [],
   "source": [
    "df_distrito_con_votos = df_distrito[df_distrito != 0] #Distritos con al menos 1 voto"
   ]
  },
  {
   "cell_type": "code",
   "execution_count": 6,
   "id": "c9ef31b3",
   "metadata": {},
   "outputs": [],
   "source": [
    "# Crear un diccionario con los primeros dígitos\n",
    "diccionario_digitos = dict()"
   ]
  },
  {
   "cell_type": "code",
   "execution_count": 7,
   "id": "36663cfb",
   "metadata": {},
   "outputs": [],
   "source": [
    "for i in df_distrito_con_votos:\n",
    "    if str(i)[0] in diccionario_digitos.keys():\n",
    "        diccionario_digitos[str(i)[0]] += 1\n",
    "    else:\n",
    "        diccionario_digitos[str(i)[0]] = 0"
   ]
  },
  {
   "cell_type": "code",
   "execution_count": 8,
   "id": "09d274e7",
   "metadata": {},
   "outputs": [
    {
     "name": "stdout",
     "output_type": "stream",
     "text": [
      "{'8': 84, '3': 249, '1': 565, '7': 109, '6': 117, '5': 166, '4': 183, '2': 319, '9': 108}\n"
     ]
    }
   ],
   "source": [
    "print(diccionario_digitos)"
   ]
  },
  {
   "cell_type": "code",
   "execution_count": 9,
   "id": "8880c330",
   "metadata": {},
   "outputs": [],
   "source": [
    "benford = pd.DataFrame(diccionario_digitos.items(), columns= ['digito', 'total'], index = diccionario_digitos.keys())"
   ]
  },
  {
   "cell_type": "code",
   "execution_count": 10,
   "id": "bc757a20",
   "metadata": {},
   "outputs": [],
   "source": [
    "benford = benford.sort_values(by='digito')"
   ]
  },
  {
   "cell_type": "code",
   "execution_count": 11,
   "id": "45233e4b",
   "metadata": {},
   "outputs": [
    {
     "data": {
      "text/html": [
       "<div>\n",
       "<style scoped>\n",
       "    .dataframe tbody tr th:only-of-type {\n",
       "        vertical-align: middle;\n",
       "    }\n",
       "\n",
       "    .dataframe tbody tr th {\n",
       "        vertical-align: top;\n",
       "    }\n",
       "\n",
       "    .dataframe thead th {\n",
       "        text-align: right;\n",
       "    }\n",
       "</style>\n",
       "<table border=\"1\" class=\"dataframe\">\n",
       "  <thead>\n",
       "    <tr style=\"text-align: right;\">\n",
       "      <th></th>\n",
       "      <th>digito</th>\n",
       "      <th>total</th>\n",
       "    </tr>\n",
       "  </thead>\n",
       "  <tbody>\n",
       "    <tr>\n",
       "      <th>1</th>\n",
       "      <td>1</td>\n",
       "      <td>565</td>\n",
       "    </tr>\n",
       "    <tr>\n",
       "      <th>2</th>\n",
       "      <td>2</td>\n",
       "      <td>319</td>\n",
       "    </tr>\n",
       "    <tr>\n",
       "      <th>3</th>\n",
       "      <td>3</td>\n",
       "      <td>249</td>\n",
       "    </tr>\n",
       "    <tr>\n",
       "      <th>4</th>\n",
       "      <td>4</td>\n",
       "      <td>183</td>\n",
       "    </tr>\n",
       "    <tr>\n",
       "      <th>5</th>\n",
       "      <td>5</td>\n",
       "      <td>166</td>\n",
       "    </tr>\n",
       "    <tr>\n",
       "      <th>6</th>\n",
       "      <td>6</td>\n",
       "      <td>117</td>\n",
       "    </tr>\n",
       "    <tr>\n",
       "      <th>7</th>\n",
       "      <td>7</td>\n",
       "      <td>109</td>\n",
       "    </tr>\n",
       "    <tr>\n",
       "      <th>8</th>\n",
       "      <td>8</td>\n",
       "      <td>84</td>\n",
       "    </tr>\n",
       "    <tr>\n",
       "      <th>9</th>\n",
       "      <td>9</td>\n",
       "      <td>108</td>\n",
       "    </tr>\n",
       "  </tbody>\n",
       "</table>\n",
       "</div>"
      ],
      "text/plain": [
       "  digito  total\n",
       "1      1    565\n",
       "2      2    319\n",
       "3      3    249\n",
       "4      4    183\n",
       "5      5    166\n",
       "6      6    117\n",
       "7      7    109\n",
       "8      8     84\n",
       "9      9    108"
      ]
     },
     "execution_count": 11,
     "metadata": {},
     "output_type": "execute_result"
    }
   ],
   "source": [
    "benford"
   ]
  },
  {
   "cell_type": "code",
   "execution_count": 12,
   "id": "8d08d779",
   "metadata": {},
   "outputs": [],
   "source": [
    "benford_real = pd.DataFrame([round(math.log10(1+1/i)*100,2) for i in range(1,10)], index=['1','2','3','4','5','6','7','8','9'], columns=['Valor real de Benford'])"
   ]
  },
  {
   "cell_type": "code",
   "execution_count": 13,
   "id": "f4ac977e",
   "metadata": {},
   "outputs": [
    {
     "data": {
      "text/html": [
       "<div>\n",
       "<style scoped>\n",
       "    .dataframe tbody tr th:only-of-type {\n",
       "        vertical-align: middle;\n",
       "    }\n",
       "\n",
       "    .dataframe tbody tr th {\n",
       "        vertical-align: top;\n",
       "    }\n",
       "\n",
       "    .dataframe thead th {\n",
       "        text-align: right;\n",
       "    }\n",
       "</style>\n",
       "<table border=\"1\" class=\"dataframe\">\n",
       "  <thead>\n",
       "    <tr style=\"text-align: right;\">\n",
       "      <th></th>\n",
       "      <th>Valor real de Benford</th>\n",
       "    </tr>\n",
       "  </thead>\n",
       "  <tbody>\n",
       "    <tr>\n",
       "      <th>1</th>\n",
       "      <td>30.10</td>\n",
       "    </tr>\n",
       "    <tr>\n",
       "      <th>2</th>\n",
       "      <td>17.61</td>\n",
       "    </tr>\n",
       "    <tr>\n",
       "      <th>3</th>\n",
       "      <td>12.49</td>\n",
       "    </tr>\n",
       "    <tr>\n",
       "      <th>4</th>\n",
       "      <td>9.69</td>\n",
       "    </tr>\n",
       "    <tr>\n",
       "      <th>5</th>\n",
       "      <td>7.92</td>\n",
       "    </tr>\n",
       "    <tr>\n",
       "      <th>6</th>\n",
       "      <td>6.69</td>\n",
       "    </tr>\n",
       "    <tr>\n",
       "      <th>7</th>\n",
       "      <td>5.80</td>\n",
       "    </tr>\n",
       "    <tr>\n",
       "      <th>8</th>\n",
       "      <td>5.12</td>\n",
       "    </tr>\n",
       "    <tr>\n",
       "      <th>9</th>\n",
       "      <td>4.58</td>\n",
       "    </tr>\n",
       "  </tbody>\n",
       "</table>\n",
       "</div>"
      ],
      "text/plain": [
       "   Valor real de Benford\n",
       "1                  30.10\n",
       "2                  17.61\n",
       "3                  12.49\n",
       "4                   9.69\n",
       "5                   7.92\n",
       "6                   6.69\n",
       "7                   5.80\n",
       "8                   5.12\n",
       "9                   4.58"
      ]
     },
     "execution_count": 13,
     "metadata": {},
     "output_type": "execute_result"
    }
   ],
   "source": [
    "benford_real"
   ]
  },
  {
   "cell_type": "code",
   "execution_count": 14,
   "id": "330e4977",
   "metadata": {},
   "outputs": [],
   "source": [
    "benford['porcentaje_total'] = round(benford['total']*100/sum(benford['total']), 2)"
   ]
  },
  {
   "cell_type": "code",
   "execution_count": 15,
   "id": "8e38d11c",
   "metadata": {
    "scrolled": true
   },
   "outputs": [],
   "source": [
    "#benford['real'] = [round(math.log10(1+1/i)*100,2) for i in range(1,10)]"
   ]
  },
  {
   "cell_type": "code",
   "execution_count": 16,
   "id": "a8cb1d66",
   "metadata": {},
   "outputs": [
    {
     "name": "stdout",
     "output_type": "stream",
     "text": [
      "  digito  total  porcentaje_total\n",
      "1      1    565             29.74\n",
      "2      2    319             16.79\n",
      "3      3    249             13.11\n",
      "4      4    183              9.63\n",
      "5      5    166              8.74\n",
      "6      6    117              6.16\n",
      "7      7    109              5.74\n",
      "8      8     84              4.42\n",
      "9      9    108              5.68\n"
     ]
    }
   ],
   "source": [
    "print(benford)"
   ]
  },
  {
   "cell_type": "code",
   "execution_count": 18,
   "id": "f6f34022",
   "metadata": {
    "scrolled": true
   },
   "outputs": [
    {
     "data": {
      "text/plain": [
       "[(0.0, 35.0)]"
      ]
     },
     "execution_count": 18,
     "metadata": {},
     "output_type": "execute_result"
    },
    {
     "data": {
      "image/png": "[encoded data removed]",
      "text/plain": [
       "<Figure size 432x288 with 1 Axes>"
      ]
     },
     "metadata": {},
     "output_type": "display_data"
    }
   ],
   "source": [
    "sns.set_style('whitegrid')\n",
    "sns.barplot(data=benford, x= 'digito', y='porcentaje_total', palette='Paired')\n",
    "g =sns.scatterplot(data=benford_real, color='b', s=60, zorder=10, markers='v', palette=['red'])\n",
    "\n",
    "g.set(title='Ley de Benford para votos a Keiko por distrito')\n",
    "g.set(ylabel = '%')\n",
    "g.set(ylim=(0, 35))\n"
   ]
  },
  {
   "cell_type": "code",
   "execution_count": null,
   "id": "31e1ed13",
   "metadata": {},
   "outputs": [],
   "source": []
  },
  {
   "cell_type": "code",
   "execution_count": null,
   "id": "a201a27b",
   "metadata": {},
   "outputs": [],
   "source": []
  },
  {
   "cell_type": "code",
   "execution_count": null,
   "id": "5fe559d9",
   "metadata": {},
   "outputs": [],
   "source": []
  },
  {
   "cell_type": "code",
   "execution_count": null,
   "id": "e3c79522",
   "metadata": {},
   "outputs": [],
   "source": []
  },
  {
   "cell_type": "code",
   "execution_count": null,
   "id": "ca547a13",
   "metadata": {},
   "outputs": [],
   "source": []
  },
  {
   "cell_type": "code",
   "execution_count": null,
   "id": "87242541",
   "metadata": {},
   "outputs": [],
   "source": []
  }
 ],
 "metadata": {
  "kernelspec": {
   "display_name": "Python 3 (ipykernel)",
   "language": "python",
   "name": "python3"
  },
  "language_info": {
   "codemirror_mode": {
    "name": "ipython",
    "version": 3
   },
   "file_extension": ".py",
   "mimetype": "text/x-python",
   "name": "python",
   "nbconvert_exporter": "python",
   "pygments_lexer": "ipython3",
   "version": "3.8.8"
  }
 },
 "nbformat": 4,
 "nbformat_minor": 5
}
